{
 "cells": [
  {
   "cell_type": "code",
   "execution_count": 2,
   "id": "015fe773",
   "metadata": {},
   "outputs": [],
   "source": [
    "import pandas as pd\n",
    "import requests\n",
    "from bs4 import BeautifulSoup\n",
    "import numpy as np"
   ]
  },
  {
   "cell_type": "code",
   "execution_count": 3,
   "id": "ccdaa471",
   "metadata": {},
   "outputs": [],
   "source": [
    "headers= {'User-Agent': 'Mozilla/5.0 (Windows NT 6.3; Win64; x64)AppleWebKit/537.36 (KHTML, like Gecko) Chrome/80.0.3987.162 Safari/537.36'}\n",
    "web_page=requests.get('https://www.ambitionbox.com/list-of-companies?page=1',headers=headers).text"
   ]
  },
  {
   "cell_type": "code",
   "execution_count": 4,
   "id": "d390e3a4",
   "metadata": {},
   "outputs": [],
   "source": [
    "soup=BeautifulSoup(web_page,'lxml')"
   ]
  },
  {
   "cell_type": "code",
   "execution_count": 5,
   "id": "46519830",
   "metadata": {},
   "outputs": [],
   "source": [
    "company=soup.find_all('div',class_='company-content-wrapper')"
   ]
  },
  {
   "cell_type": "code",
   "execution_count": 23,
   "id": "82c5d83f",
   "metadata": {},
   "outputs": [],
   "source": [
    "name=[]\n",
    "ratings=[]\n",
    "reviews=[]\n",
    "c_type=[]\n",
    "brances=[]\n",
    "old=[]\n",
    "emp=[]\n",
    "for i in company:\n",
    "    name.append(i.find('h2').text.strip())\n",
    "    ratings.append(i.find('p',class_='rating').text.strip())\n",
    "    reviews.append(i.find('a',class_='review-count').text.strip())\n",
    "    c_type.append(i.find_all('p',class_='infoEntity')[0].text.strip())\n",
    "    brances.append(i.find_all('p',class_='infoEntity')[1].text.strip())\n",
    "    old.append(i.find_all('p',class_='infoEntity')[2].text.strip())\n",
    "    emp.append(i.find_all('p',class_='infoEntity')[3].text.strip())\n",
    "\n",
    "\n",
    "\n"
   ]
  },
  {
   "cell_type": "code",
   "execution_count": 28,
   "id": "8205d6b5",
   "metadata": {},
   "outputs": [],
   "source": [
    "data={'name':name,'rating':ratings,'Reviews':reviews,\"company type\":c_type,\"headquater and brances\":brances,\"old\":old,\"employees\":emp}\n",
    "df=pd.DataFrame(data)\n",
    "\n"
   ]
  },
  {
   "cell_type": "code",
   "execution_count": 29,
   "id": "19553fcc",
   "metadata": {},
   "outputs": [
    {
     "data": {
      "text/html": [
       "<div>\n",
       "<style scoped>\n",
       "    .dataframe tbody tr th:only-of-type {\n",
       "        vertical-align: middle;\n",
       "    }\n",
       "\n",
       "    .dataframe tbody tr th {\n",
       "        vertical-align: top;\n",
       "    }\n",
       "\n",
       "    .dataframe thead th {\n",
       "        text-align: right;\n",
       "    }\n",
       "</style>\n",
       "<table border=\"1\" class=\"dataframe\">\n",
       "  <thead>\n",
       "    <tr style=\"text-align: right;\">\n",
       "      <th></th>\n",
       "      <th>name</th>\n",
       "      <th>rating</th>\n",
       "      <th>Reviews</th>\n",
       "      <th>company type</th>\n",
       "      <th>headquater and brances</th>\n",
       "      <th>old</th>\n",
       "      <th>employees</th>\n",
       "    </tr>\n",
       "  </thead>\n",
       "  <tbody>\n",
       "    <tr>\n",
       "      <th>0</th>\n",
       "      <td>TCS</td>\n",
       "      <td>3.9</td>\n",
       "      <td>(50k Reviews)</td>\n",
       "      <td>Public</td>\n",
       "      <td>Mumbai,Maharashtra + 276 more</td>\n",
       "      <td>54 years old</td>\n",
       "      <td>1 Lakh+ Employees (India)</td>\n",
       "    </tr>\n",
       "    <tr>\n",
       "      <th>1</th>\n",
       "      <td>Accenture</td>\n",
       "      <td>4.1</td>\n",
       "      <td>(32.5k Reviews)</td>\n",
       "      <td>Public</td>\n",
       "      <td>Dublin + 142 more</td>\n",
       "      <td>33 years old</td>\n",
       "      <td>1 Lakh+ Employees (India)</td>\n",
       "    </tr>\n",
       "    <tr>\n",
       "      <th>2</th>\n",
       "      <td>Cognizant</td>\n",
       "      <td>3.9</td>\n",
       "      <td>(29.8k Reviews)</td>\n",
       "      <td>Private</td>\n",
       "      <td>Teaneck. New Jersey. + 99 more</td>\n",
       "      <td>28 years old</td>\n",
       "      <td>1 Lakh+ Employees (India)</td>\n",
       "    </tr>\n",
       "    <tr>\n",
       "      <th>3</th>\n",
       "      <td>ICICI Bank</td>\n",
       "      <td>4.0</td>\n",
       "      <td>(35k Reviews)</td>\n",
       "      <td>Public</td>\n",
       "      <td>Mumbai,Maharashtra + 1043 more</td>\n",
       "      <td>28 years old</td>\n",
       "      <td>1 Lakh+ Employees (India)</td>\n",
       "    </tr>\n",
       "    <tr>\n",
       "      <th>4</th>\n",
       "      <td>HDFC Bank</td>\n",
       "      <td>4.0</td>\n",
       "      <td>(40k Reviews)</td>\n",
       "      <td>Public</td>\n",
       "      <td>Mumbai,Maharashtra + 1220 more</td>\n",
       "      <td>28 years old</td>\n",
       "      <td>1 Lakh+ Employees (India)</td>\n",
       "    </tr>\n",
       "  </tbody>\n",
       "</table>\n",
       "</div>"
      ],
      "text/plain": [
       "         name rating          Reviews company type  \\\n",
       "0         TCS    3.9    (50k Reviews)       Public   \n",
       "1   Accenture    4.1  (32.5k Reviews)       Public   \n",
       "2   Cognizant    3.9  (29.8k Reviews)      Private   \n",
       "3  ICICI Bank    4.0    (35k Reviews)       Public   \n",
       "4   HDFC Bank    4.0    (40k Reviews)       Public   \n",
       "\n",
       "           headquater and brances           old                  employees  \n",
       "0   Mumbai,Maharashtra + 276 more  54 years old  1 Lakh+ Employees (India)  \n",
       "1               Dublin + 142 more  33 years old  1 Lakh+ Employees (India)  \n",
       "2  Teaneck. New Jersey. + 99 more  28 years old  1 Lakh+ Employees (India)  \n",
       "3  Mumbai,Maharashtra + 1043 more  28 years old  1 Lakh+ Employees (India)  \n",
       "4  Mumbai,Maharashtra + 1220 more  28 years old  1 Lakh+ Employees (India)  "
      ]
     },
     "execution_count": 29,
     "metadata": {},
     "output_type": "execute_result"
    }
   ],
   "source": [
    "df.head()"
   ]
  },
  {
   "cell_type": "code",
   "execution_count": null,
   "id": "4d854917",
   "metadata": {},
   "outputs": [],
   "source": [
    "final=pd.DataFrame()\n",
    "for j in range(1,11):\n",
    "    url=f'https://www.ambitionbox.com/list-of-companies?page={j}'\n",
    "    headers= {'User-Agent': 'Mozilla/5.0 (Windows NT 6.3; Win64; x64)AppleWebKit/537.36 (KHTML, like Gecko) Chrome/80.0.3987.162 Safari/537.36'}\n",
    "    web_page=requests.get(url,headers=headers).text\n",
    "    soup=BeautifulSoup(web_page,'lxml')\n",
    "    company=soup.find_all('div',class_='company-content-wrapper')\n",
    "    \n",
    "\n",
    "    name=[]\n",
    "    ratings=[]\n",
    "    reviews=[]\n",
    "    company_type=[]\n",
    "    for i in company:\n",
    "        name.append(i.find('h2').text.strip())\n",
    "        ratings.append(i.find('p',class_='rating').text.strip())\n",
    "        reviews.append(i.find('a',class_='review-count').text.strip())\n",
    "        company_type.append(i.find_all('p',class_='infoEntity')[0].text.strip())\n",
    "    \n",
    "        \n",
    "        \n",
    "        data={'name':name,'rating':ratings,'Reviews':reviews,\"company type\":company_type}\n",
    "        df=pd.DataFrame(data)\n",
    "        final=final.append(df)"
   ]
  },
  {
   "cell_type": "code",
   "execution_count": null,
   "id": "f1a91188",
   "metadata": {},
   "outputs": [],
   "source": []
  },
  {
   "cell_type": "code",
   "execution_count": null,
   "id": "c00100b0",
   "metadata": {},
   "outputs": [],
   "source": []
  },
  {
   "cell_type": "code",
   "execution_count": null,
   "id": "5e7bdc69",
   "metadata": {},
   "outputs": [],
   "source": []
  }
 ],
 "metadata": {
  "kernelspec": {
   "display_name": "Python 3 (ipykernel)",
   "language": "python",
   "name": "python3"
  },
  "language_info": {
   "codemirror_mode": {
    "name": "ipython",
    "version": 3
   },
   "file_extension": ".py",
   "mimetype": "text/x-python",
   "name": "python",
   "nbconvert_exporter": "python",
   "pygments_lexer": "ipython3",
   "version": "3.9.7"
  }
 },
 "nbformat": 4,
 "nbformat_minor": 5
}
